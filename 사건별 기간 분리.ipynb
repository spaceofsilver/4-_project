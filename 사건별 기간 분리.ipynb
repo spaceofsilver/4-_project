{
 "cells": [
  {
   "cell_type": "code",
   "execution_count": 2,
   "metadata": {
    "ExecuteTime": {
     "end_time": "2021-04-29T06:47:08.782085Z",
     "start_time": "2021-04-29T06:47:08.777070Z"
    }
   },
   "outputs": [],
   "source": [
    "import pandas as pd\n",
    "import numpy as np\n",
    "import matplotlib.pyplot as plt\n",
    "import matplotlib\n",
    "import seaborn as sns\n",
    "import time\n",
    "from datetime import datetime \n",
    "matplotlib.rcParams['font.family']='Malgun Gothic'\n",
    "matplotlib.rcParams['axes.unicode_minus']=False"
   ]
  },
  {
   "cell_type": "markdown",
   "metadata": {},
   "source": [
    "## 1. 데이터 불러오기"
   ]
  },
  {
   "cell_type": "markdown",
   "metadata": {
    "ExecuteTime": {
     "end_time": "2021-04-29T07:15:24.172524Z",
     "start_time": "2021-04-29T07:15:24.162550Z"
    }
   },
   "source": [
    "4/7 - (작성일-날짜)"
   ]
  },
  {
   "cell_type": "code",
   "execution_count": 254,
   "metadata": {
    "ExecuteTime": {
     "end_time": "2021-04-29T07:47:15.392320Z",
     "start_time": "2021-04-29T07:47:14.189413Z"
    }
   },
   "outputs": [
    {
     "data": {
      "text/html": [
       "<div>\n",
       "<style scoped>\n",
       "    .dataframe tbody tr th:only-of-type {\n",
       "        vertical-align: middle;\n",
       "    }\n",
       "\n",
       "    .dataframe tbody tr th {\n",
       "        vertical-align: top;\n",
       "    }\n",
       "\n",
       "    .dataframe thead th {\n",
       "        text-align: right;\n",
       "    }\n",
       "</style>\n",
       "<table border=\"1\" class=\"dataframe\">\n",
       "  <thead>\n",
       "    <tr style=\"text-align: right;\">\n",
       "      <th></th>\n",
       "      <th>제목</th>\n",
       "      <th>날짜</th>\n",
       "      <th>작성일</th>\n",
       "      <th>댓글</th>\n",
       "      <th>출처</th>\n",
       "      <th>지역(서울:1, 부산:2)</th>\n",
       "      <th>정당(1:더불어민주당,2:국민의힘)</th>\n",
       "      <th>정당평가(부정;0, 긍정:1)</th>\n",
       "      <th>후보(기호 순)</th>\n",
       "      <th>후보평가(부정;0, 긍정:1)</th>\n",
       "      <th>제목댓글</th>\n",
       "    </tr>\n",
       "  </thead>\n",
       "  <tbody>\n",
       "    <tr>\n",
       "      <th>0</th>\n",
       "      <td>[재보궐 D-31] 부산 김영춘 vs 박형준, 서울도 양자 대결?</td>\n",
       "      <td>2021-03-07 05:57:00</td>\n",
       "      <td>2021-03-12 19:13:00</td>\n",
       "      <td>철수야! 뜸 들이지 말고 애국하는 마음으로 물러서라~~~</td>\n",
       "      <td>조선일보</td>\n",
       "      <td>NaN</td>\n",
       "      <td>NaN</td>\n",
       "      <td>NaN</td>\n",
       "      <td>NaN</td>\n",
       "      <td>NaN</td>\n",
       "      <td>[재보궐 D-31] 부산 김영춘 vs 박형준, 서울도 양자 대결? 철수야! 뜸 들이...</td>\n",
       "    </tr>\n",
       "    <tr>\n",
       "      <th>1</th>\n",
       "      <td>[재보궐 D-31] 부산 김영춘 vs 박형준, 서울도 양자 대결?</td>\n",
       "      <td>2021-03-07 05:57:00</td>\n",
       "      <td>2021-03-09 13:49:00</td>\n",
       "      <td>박영선은 정동영이 얻은 36프로선에 머무를것. 4.7.이후 OOO정권은 몰락의 길 ...</td>\n",
       "      <td>조선일보</td>\n",
       "      <td>1.0</td>\n",
       "      <td>NaN</td>\n",
       "      <td>NaN</td>\n",
       "      <td>1.0</td>\n",
       "      <td>0.0</td>\n",
       "      <td>[재보궐 D-31] 부산 김영춘 vs 박형준, 서울도 양자 대결? 박영선은 정동영이...</td>\n",
       "    </tr>\n",
       "    <tr>\n",
       "      <th>2</th>\n",
       "      <td>[재보궐 D-31] 부산 김영춘 vs 박형준, 서울도 양자 대결?</td>\n",
       "      <td>2021-03-07 05:57:00</td>\n",
       "      <td>2021-03-07 14:42:00</td>\n",
       "      <td>빵선이가서울시장되면서울은공산국가수도제2의평양이될것이다</td>\n",
       "      <td>조선일보</td>\n",
       "      <td>1.0</td>\n",
       "      <td>NaN</td>\n",
       "      <td>NaN</td>\n",
       "      <td>1.0</td>\n",
       "      <td>0.0</td>\n",
       "      <td>[재보궐 D-31] 부산 김영춘 vs 박형준, 서울도 양자 대결? 빵선이가서울시장되...</td>\n",
       "    </tr>\n",
       "    <tr>\n",
       "      <th>3</th>\n",
       "      <td>[재보궐 D-31] 부산 김영춘 vs 박형준, 서울도 양자 대결?</td>\n",
       "      <td>2021-03-07 05:57:00</td>\n",
       "      <td>2021-03-07 14:38:00</td>\n",
       "      <td>서울시장후보더듬당박빵선이는절대로서울시장을할수없다이유는가족은미국.영국에 영주권자이므로...</td>\n",
       "      <td>조선일보</td>\n",
       "      <td>1.0</td>\n",
       "      <td>1.0</td>\n",
       "      <td>0.0</td>\n",
       "      <td>1.0</td>\n",
       "      <td>0.0</td>\n",
       "      <td>[재보궐 D-31] 부산 김영춘 vs 박형준, 서울도 양자 대결? 서울시장후보더듬당...</td>\n",
       "    </tr>\n",
       "    <tr>\n",
       "      <th>4</th>\n",
       "      <td>[재보궐 D-31] 부산 김영춘 vs 박형준, 서울도 양자 대결?</td>\n",
       "      <td>2021-03-07 05:57:00</td>\n",
       "      <td>2021-03-07 14:02:00</td>\n",
       "      <td>부산은오거돈선거이고 오거돈치부선거아닌가 오거돈에 성추해으로 생긴선거가 가독도신공항은...</td>\n",
       "      <td>조선일보</td>\n",
       "      <td>2.0</td>\n",
       "      <td>1.0</td>\n",
       "      <td>0.0</td>\n",
       "      <td>NaN</td>\n",
       "      <td>NaN</td>\n",
       "      <td>[재보궐 D-31] 부산 김영춘 vs 박형준, 서울도 양자 대결? 부산은오거돈선거이...</td>\n",
       "    </tr>\n",
       "    <tr>\n",
       "      <th>...</th>\n",
       "      <td>...</td>\n",
       "      <td>...</td>\n",
       "      <td>...</td>\n",
       "      <td>...</td>\n",
       "      <td>...</td>\n",
       "      <td>...</td>\n",
       "      <td>...</td>\n",
       "      <td>...</td>\n",
       "      <td>...</td>\n",
       "      <td>...</td>\n",
       "      <td>...</td>\n",
       "    </tr>\n",
       "    <tr>\n",
       "      <th>144134</th>\n",
       "      <td>[논설위원의 단도직입]“한·일해저터널 경제성 없지만…동북아 경제권 차원서 장기 검토해야”</td>\n",
       "      <td>2021-04-06 21:56:00</td>\n",
       "      <td>2021-04-06 22:47:00</td>\n",
       "      <td>국민의힘 찍지 말라고 이 뉴스가 나온거임\\n내냔에 국민의힘 찍을라 했드만 망했다 친...</td>\n",
       "      <td>경향신문</td>\n",
       "      <td>NaN</td>\n",
       "      <td>NaN</td>\n",
       "      <td>NaN</td>\n",
       "      <td>NaN</td>\n",
       "      <td>NaN</td>\n",
       "      <td>[논설위원의 단도직입]“한·일해저터널 경제성 없지만…동북아 경제권 차원서 장기 검토...</td>\n",
       "    </tr>\n",
       "    <tr>\n",
       "      <th>144135</th>\n",
       "      <td>[논설위원의 단도직입]“한·일해저터널 경제성 없지만…동북아 경제권 차원서 장기 검토해야”</td>\n",
       "      <td>2021-04-06 21:56:00</td>\n",
       "      <td>2021-04-06 22:41:00</td>\n",
       "      <td>굳이 일본과 해저터널 해야되는 이유가 없은이유\\n-일본은고속도로비가 비싸다\\n차라니...</td>\n",
       "      <td>경향신문</td>\n",
       "      <td>NaN</td>\n",
       "      <td>NaN</td>\n",
       "      <td>NaN</td>\n",
       "      <td>NaN</td>\n",
       "      <td>NaN</td>\n",
       "      <td>[논설위원의 단도직입]“한·일해저터널 경제성 없지만…동북아 경제권 차원서 장기 검토...</td>\n",
       "    </tr>\n",
       "    <tr>\n",
       "      <th>144136</th>\n",
       "      <td>[논설위원의 단도직입]“한·일해저터널 경제성 없지만…동북아 경제권 차원서 장기 검토해야”</td>\n",
       "      <td>2021-04-06 21:56:00</td>\n",
       "      <td>2021-04-06 22:38:00</td>\n",
       "      <td>도랏구나. 열도는 걍 갈라파고스로 남겨 둬라. 재난 난민 넘어 오면 귀찮다.</td>\n",
       "      <td>경향신문</td>\n",
       "      <td>NaN</td>\n",
       "      <td>NaN</td>\n",
       "      <td>NaN</td>\n",
       "      <td>NaN</td>\n",
       "      <td>NaN</td>\n",
       "      <td>[논설위원의 단도직입]“한·일해저터널 경제성 없지만…동북아 경제권 차원서 장기 검토...</td>\n",
       "    </tr>\n",
       "    <tr>\n",
       "      <th>144137</th>\n",
       "      <td>[논설위원의 단도직입]“한·일해저터널 경제성 없지만…동북아 경제권 차원서 장기 검토해야”</td>\n",
       "      <td>2021-04-06 21:56:00</td>\n",
       "      <td>2021-04-06 22:32:00</td>\n",
       "      <td>이걸 왜 하지? 우리한테 아무런 의미가 없는데</td>\n",
       "      <td>경향신문</td>\n",
       "      <td>NaN</td>\n",
       "      <td>NaN</td>\n",
       "      <td>NaN</td>\n",
       "      <td>NaN</td>\n",
       "      <td>NaN</td>\n",
       "      <td>[논설위원의 단도직입]“한·일해저터널 경제성 없지만…동북아 경제권 차원서 장기 검토...</td>\n",
       "    </tr>\n",
       "    <tr>\n",
       "      <th>144138</th>\n",
       "      <td>[논설위원의 단도직입]“한·일해저터널 경제성 없지만…동북아 경제권 차원서 장기 검토해야”</td>\n",
       "      <td>2021-04-06 21:56:00</td>\n",
       "      <td>2021-04-06 22:26:00</td>\n",
       "      <td>우리에겐 아무런 도움이 되지 않는 것을 일본에게는 엄청난 기회가 되는 것을 왜 굳이...</td>\n",
       "      <td>경향신문</td>\n",
       "      <td>NaN</td>\n",
       "      <td>NaN</td>\n",
       "      <td>NaN</td>\n",
       "      <td>NaN</td>\n",
       "      <td>NaN</td>\n",
       "      <td>[논설위원의 단도직입]“한·일해저터널 경제성 없지만…동북아 경제권 차원서 장기 검토...</td>\n",
       "    </tr>\n",
       "  </tbody>\n",
       "</table>\n",
       "<p>144139 rows × 11 columns</p>\n",
       "</div>"
      ],
      "text/plain": [
       "                                                       제목  \\\n",
       "0                    [재보궐 D-31] 부산 김영춘 vs 박형준, 서울도 양자 대결?   \n",
       "1                    [재보궐 D-31] 부산 김영춘 vs 박형준, 서울도 양자 대결?   \n",
       "2                    [재보궐 D-31] 부산 김영춘 vs 박형준, 서울도 양자 대결?   \n",
       "3                    [재보궐 D-31] 부산 김영춘 vs 박형준, 서울도 양자 대결?   \n",
       "4                    [재보궐 D-31] 부산 김영춘 vs 박형준, 서울도 양자 대결?   \n",
       "...                                                   ...   \n",
       "144134  [논설위원의 단도직입]“한·일해저터널 경제성 없지만…동북아 경제권 차원서 장기 검토해야”   \n",
       "144135  [논설위원의 단도직입]“한·일해저터널 경제성 없지만…동북아 경제권 차원서 장기 검토해야”   \n",
       "144136  [논설위원의 단도직입]“한·일해저터널 경제성 없지만…동북아 경제권 차원서 장기 검토해야”   \n",
       "144137  [논설위원의 단도직입]“한·일해저터널 경제성 없지만…동북아 경제권 차원서 장기 검토해야”   \n",
       "144138  [논설위원의 단도직입]“한·일해저터널 경제성 없지만…동북아 경제권 차원서 장기 검토해야”   \n",
       "\n",
       "                         날짜                  작성일  \\\n",
       "0       2021-03-07 05:57:00  2021-03-12 19:13:00   \n",
       "1       2021-03-07 05:57:00  2021-03-09 13:49:00   \n",
       "2       2021-03-07 05:57:00  2021-03-07 14:42:00   \n",
       "3       2021-03-07 05:57:00  2021-03-07 14:38:00   \n",
       "4       2021-03-07 05:57:00  2021-03-07 14:02:00   \n",
       "...                     ...                  ...   \n",
       "144134  2021-04-06 21:56:00  2021-04-06 22:47:00   \n",
       "144135  2021-04-06 21:56:00  2021-04-06 22:41:00   \n",
       "144136  2021-04-06 21:56:00  2021-04-06 22:38:00   \n",
       "144137  2021-04-06 21:56:00  2021-04-06 22:32:00   \n",
       "144138  2021-04-06 21:56:00  2021-04-06 22:26:00   \n",
       "\n",
       "                                                       댓글    출처  \\\n",
       "0                         철수야! 뜸 들이지 말고 애국하는 마음으로 물러서라~~~  조선일보   \n",
       "1       박영선은 정동영이 얻은 36프로선에 머무를것. 4.7.이후 OOO정권은 몰락의 길 ...  조선일보   \n",
       "2                           빵선이가서울시장되면서울은공산국가수도제2의평양이될것이다  조선일보   \n",
       "3       서울시장후보더듬당박빵선이는절대로서울시장을할수없다이유는가족은미국.영국에 영주권자이므로...  조선일보   \n",
       "4       부산은오거돈선거이고 오거돈치부선거아닌가 오거돈에 성추해으로 생긴선거가 가독도신공항은...  조선일보   \n",
       "...                                                   ...   ...   \n",
       "144134  국민의힘 찍지 말라고 이 뉴스가 나온거임\\n내냔에 국민의힘 찍을라 했드만 망했다 친...  경향신문   \n",
       "144135  굳이 일본과 해저터널 해야되는 이유가 없은이유\\n-일본은고속도로비가 비싸다\\n차라니...  경향신문   \n",
       "144136         도랏구나. 열도는 걍 갈라파고스로 남겨 둬라. 재난 난민 넘어 오면 귀찮다.  경향신문   \n",
       "144137                          이걸 왜 하지? 우리한테 아무런 의미가 없는데  경향신문   \n",
       "144138  우리에겐 아무런 도움이 되지 않는 것을 일본에게는 엄청난 기회가 되는 것을 왜 굳이...  경향신문   \n",
       "\n",
       "        지역(서울:1, 부산:2)  정당(1:더불어민주당,2:국민의힘)  정당평가(부정;0, 긍정:1)  후보(기호 순)  \\\n",
       "0                  NaN                  NaN               NaN       NaN   \n",
       "1                  1.0                  NaN               NaN       1.0   \n",
       "2                  1.0                  NaN               NaN       1.0   \n",
       "3                  1.0                  1.0               0.0       1.0   \n",
       "4                  2.0                  1.0               0.0       NaN   \n",
       "...                ...                  ...               ...       ...   \n",
       "144134             NaN                  NaN               NaN       NaN   \n",
       "144135             NaN                  NaN               NaN       NaN   \n",
       "144136             NaN                  NaN               NaN       NaN   \n",
       "144137             NaN                  NaN               NaN       NaN   \n",
       "144138             NaN                  NaN               NaN       NaN   \n",
       "\n",
       "        후보평가(부정;0, 긍정:1)                                               제목댓글  \n",
       "0                    NaN  [재보궐 D-31] 부산 김영춘 vs 박형준, 서울도 양자 대결? 철수야! 뜸 들이...  \n",
       "1                    0.0  [재보궐 D-31] 부산 김영춘 vs 박형준, 서울도 양자 대결? 박영선은 정동영이...  \n",
       "2                    0.0  [재보궐 D-31] 부산 김영춘 vs 박형준, 서울도 양자 대결? 빵선이가서울시장되...  \n",
       "3                    0.0  [재보궐 D-31] 부산 김영춘 vs 박형준, 서울도 양자 대결? 서울시장후보더듬당...  \n",
       "4                    NaN  [재보궐 D-31] 부산 김영춘 vs 박형준, 서울도 양자 대결? 부산은오거돈선거이...  \n",
       "...                  ...                                                ...  \n",
       "144134               NaN  [논설위원의 단도직입]“한·일해저터널 경제성 없지만…동북아 경제권 차원서 장기 검토...  \n",
       "144135               NaN  [논설위원의 단도직입]“한·일해저터널 경제성 없지만…동북아 경제권 차원서 장기 검토...  \n",
       "144136               NaN  [논설위원의 단도직입]“한·일해저터널 경제성 없지만…동북아 경제권 차원서 장기 검토...  \n",
       "144137               NaN  [논설위원의 단도직입]“한·일해저터널 경제성 없지만…동북아 경제권 차원서 장기 검토...  \n",
       "144138               NaN  [논설위원의 단도직입]“한·일해저터널 경제성 없지만…동북아 경제권 차원서 장기 검토...  \n",
       "\n",
       "[144139 rows x 11 columns]"
      ]
     },
     "execution_count": 254,
     "metadata": {},
     "output_type": "execute_result"
    }
   ],
   "source": [
    "df = pd.read_csv('재보궐선거댓글데이터_최종_유튜브수정_0429.csv')\n",
    "df"
   ]
  },
  {
   "cell_type": "markdown",
   "metadata": {},
   "source": [
    "## 2. Youtube 데이터 날짜 수정"
   ]
  },
  {
   "cell_type": "code",
   "execution_count": 139,
   "metadata": {
    "ExecuteTime": {
     "end_time": "2021-04-29T07:18:07.256096Z",
     "start_time": "2021-04-29T07:18:07.225178Z"
    },
    "collapsed": true
   },
   "outputs": [
    {
     "name": "stdout",
     "output_type": "stream",
     "text": [
      "<class 'pandas.core.frame.DataFrame'>\n",
      "Int64Index: 21844 entries, 67522 to 109931\n",
      "Data columns (total 2 columns):\n",
      " #   Column  Non-Null Count  Dtype \n",
      "---  ------  --------------  ----- \n",
      " 0   날짜      21844 non-null  object\n",
      " 1   작성일     21844 non-null  object\n",
      "dtypes: object(2)\n",
      "memory usage: 512.0+ KB\n"
     ]
    },
    {
     "name": "stderr",
     "output_type": "stream",
     "text": [
      "C:\\Users\\master4\\anaconda3\\lib\\site-packages\\ipykernel_launcher.py:7: SettingWithCopyWarning: \n",
      "A value is trying to be set on a copy of a slice from a DataFrame.\n",
      "Try using .loc[row_indexer,col_indexer] = value instead\n",
      "\n",
      "See the caveats in the documentation: https://pandas.pydata.org/pandas-docs/stable/user_guide/indexing.html#returning-a-view-versus-a-copy\n",
      "  import sys\n",
      "C:\\Users\\master4\\anaconda3\\lib\\site-packages\\ipykernel_launcher.py:8: SettingWithCopyWarning: \n",
      "A value is trying to be set on a copy of a slice from a DataFrame.\n",
      "Try using .loc[row_indexer,col_indexer] = value instead\n",
      "\n",
      "See the caveats in the documentation: https://pandas.pydata.org/pandas-docs/stable/user_guide/indexing.html#returning-a-view-versus-a-copy\n",
      "  \n"
     ]
    }
   ],
   "source": [
    "# 출처가 Youtube인 데이터만 추출\n",
    "youtube_data = df.query( '출처 == \"유튜브\" ')\n",
    "\n",
    "# 각 컬럼별 데이터 타입 확인\n",
    "youtube_data[['날짜','작성일']].info()\n",
    "\n",
    "# 데이터 타입을 object -> datetime으로 변경\n",
    "youtube_data['날짜'] = pd.to_datetime( youtube_data['날짜'] )\n",
    "youtube_data['작성일'] = pd.to_datetime( youtube_data['작성일'] )"
   ]
  },
  {
   "cell_type": "code",
   "execution_count": 140,
   "metadata": {
    "ExecuteTime": {
     "end_time": "2021-04-29T07:18:22.127525Z",
     "start_time": "2021-04-29T07:18:22.114560Z"
    }
   },
   "outputs": [
    {
     "name": "stdout",
     "output_type": "stream",
     "text": [
      "<class 'pandas.core.frame.DataFrame'>\n",
      "Int64Index: 21844 entries, 67522 to 109931\n",
      "Data columns (total 2 columns):\n",
      " #   Column  Non-Null Count  Dtype         \n",
      "---  ------  --------------  -----         \n",
      " 0   날짜      21844 non-null  datetime64[ns]\n",
      " 1   작성일     21844 non-null  datetime64[ns]\n",
      "dtypes: datetime64[ns](2)\n",
      "memory usage: 512.0 KB\n"
     ]
    }
   ],
   "source": [
    "# 각 컬럼별 데이터 타입 확인\n",
    "youtube_data[['날짜','작성일']].info()"
   ]
  },
  {
   "cell_type": "code",
   "execution_count": 216,
   "metadata": {
    "ExecuteTime": {
     "end_time": "2021-04-29T07:33:03.163329Z",
     "start_time": "2021-04-29T07:33:03.154387Z"
    }
   },
   "outputs": [
    {
     "name": "stderr",
     "output_type": "stream",
     "text": [
      "C:\\Users\\master4\\anaconda3\\lib\\site-packages\\ipykernel_launcher.py:2: SettingWithCopyWarning: \n",
      "A value is trying to be set on a copy of a slice from a DataFrame.\n",
      "Try using .loc[row_indexer,col_indexer] = value instead\n",
      "\n",
      "See the caveats in the documentation: https://pandas.pydata.org/pandas-docs/stable/user_guide/indexing.html#returning-a-view-versus-a-copy\n",
      "  \n"
     ]
    },
    {
     "data": {
      "text/plain": [
       "67522    6 days\n",
       "67523    6 days\n",
       "67524    1 days\n",
       "67525    1 days\n",
       "67526    5 days\n",
       "          ...  \n",
       "109927   2 days\n",
       "109928   3 days\n",
       "109929   2 days\n",
       "109930   3 days\n",
       "109931   4 days\n",
       "Name: 일자차이, Length: 21844, dtype: timedelta64[ns]"
      ]
     },
     "execution_count": 216,
     "metadata": {},
     "output_type": "execute_result"
    }
   ],
   "source": [
    "# '날짜' 데이터와 '작성일' 데이터의 차이\n",
    "youtube_data['일자차이'] = abs(youtube_data['날짜'] - youtube_data['작성일'])\n",
    "youtube_data['일자차이']"
   ]
  },
  {
   "cell_type": "code",
   "execution_count": 217,
   "metadata": {
    "ExecuteTime": {
     "end_time": "2021-04-29T07:33:11.360383Z",
     "start_time": "2021-04-29T07:33:11.351410Z"
    }
   },
   "outputs": [
    {
     "name": "stderr",
     "output_type": "stream",
     "text": [
      "C:\\Users\\master4\\anaconda3\\lib\\site-packages\\ipykernel_launcher.py:2: SettingWithCopyWarning: \n",
      "A value is trying to be set on a copy of a slice from a DataFrame.\n",
      "Try using .loc[row_indexer,col_indexer] = value instead\n",
      "\n",
      "See the caveats in the documentation: https://pandas.pydata.org/pandas-docs/stable/user_guide/indexing.html#returning-a-view-versus-a-copy\n",
      "  \n"
     ]
    },
    {
     "data": {
      "text/plain": [
       "67522    2021-04-01\n",
       "67523    2021-04-01\n",
       "67524    2021-04-06\n",
       "67525    2021-04-06\n",
       "67526    2021-04-02\n",
       "            ...    \n",
       "109927   2021-04-05\n",
       "109928   2021-04-04\n",
       "109929   2021-04-05\n",
       "109930   2021-04-04\n",
       "109931   2021-04-03\n",
       "Name: 실제작성일, Length: 21844, dtype: datetime64[ns]"
      ]
     },
     "execution_count": 217,
     "metadata": {},
     "output_type": "execute_result"
    }
   ],
   "source": [
    "# 시간차이 계산\n",
    "youtube_data['실제작성일'] = pd.to_datetime('2021-04-07') - youtube_data['일자차이']\n",
    "youtube_data['실제작성일']"
   ]
  },
  {
   "cell_type": "code",
   "execution_count": 218,
   "metadata": {
    "ExecuteTime": {
     "end_time": "2021-04-29T07:33:14.039286Z",
     "start_time": "2021-04-29T07:33:14.018447Z"
    }
   },
   "outputs": [
    {
     "data": {
      "text/html": [
       "<div>\n",
       "<style scoped>\n",
       "    .dataframe tbody tr th:only-of-type {\n",
       "        vertical-align: middle;\n",
       "    }\n",
       "\n",
       "    .dataframe tbody tr th {\n",
       "        vertical-align: top;\n",
       "    }\n",
       "\n",
       "    .dataframe thead th {\n",
       "        text-align: right;\n",
       "    }\n",
       "</style>\n",
       "<table border=\"1\" class=\"dataframe\">\n",
       "  <thead>\n",
       "    <tr style=\"text-align: right;\">\n",
       "      <th></th>\n",
       "      <th>작성일</th>\n",
       "      <th>일자차이</th>\n",
       "      <th>실제작성일</th>\n",
       "    </tr>\n",
       "  </thead>\n",
       "  <tbody>\n",
       "    <tr>\n",
       "      <th>67522</th>\n",
       "      <td>2021-03-15</td>\n",
       "      <td>6 days</td>\n",
       "      <td>2021-04-01</td>\n",
       "    </tr>\n",
       "    <tr>\n",
       "      <th>67523</th>\n",
       "      <td>2021-03-15</td>\n",
       "      <td>6 days</td>\n",
       "      <td>2021-04-01</td>\n",
       "    </tr>\n",
       "    <tr>\n",
       "      <th>67524</th>\n",
       "      <td>2021-03-22</td>\n",
       "      <td>1 days</td>\n",
       "      <td>2021-04-06</td>\n",
       "    </tr>\n",
       "    <tr>\n",
       "      <th>67525</th>\n",
       "      <td>2021-03-24</td>\n",
       "      <td>1 days</td>\n",
       "      <td>2021-04-06</td>\n",
       "    </tr>\n",
       "    <tr>\n",
       "      <th>67526</th>\n",
       "      <td>2021-03-18</td>\n",
       "      <td>5 days</td>\n",
       "      <td>2021-04-02</td>\n",
       "    </tr>\n",
       "    <tr>\n",
       "      <th>...</th>\n",
       "      <td>...</td>\n",
       "      <td>...</td>\n",
       "      <td>...</td>\n",
       "    </tr>\n",
       "    <tr>\n",
       "      <th>109927</th>\n",
       "      <td>2021-03-30</td>\n",
       "      <td>2 days</td>\n",
       "      <td>2021-04-05</td>\n",
       "    </tr>\n",
       "    <tr>\n",
       "      <th>109928</th>\n",
       "      <td>2021-03-29</td>\n",
       "      <td>3 days</td>\n",
       "      <td>2021-04-04</td>\n",
       "    </tr>\n",
       "    <tr>\n",
       "      <th>109929</th>\n",
       "      <td>2021-03-30</td>\n",
       "      <td>2 days</td>\n",
       "      <td>2021-04-05</td>\n",
       "    </tr>\n",
       "    <tr>\n",
       "      <th>109930</th>\n",
       "      <td>2021-03-29</td>\n",
       "      <td>3 days</td>\n",
       "      <td>2021-04-04</td>\n",
       "    </tr>\n",
       "    <tr>\n",
       "      <th>109931</th>\n",
       "      <td>2021-03-28</td>\n",
       "      <td>4 days</td>\n",
       "      <td>2021-04-03</td>\n",
       "    </tr>\n",
       "  </tbody>\n",
       "</table>\n",
       "<p>21844 rows × 3 columns</p>\n",
       "</div>"
      ],
      "text/plain": [
       "              작성일   일자차이      실제작성일\n",
       "67522  2021-03-15 6 days 2021-04-01\n",
       "67523  2021-03-15 6 days 2021-04-01\n",
       "67524  2021-03-22 1 days 2021-04-06\n",
       "67525  2021-03-24 1 days 2021-04-06\n",
       "67526  2021-03-18 5 days 2021-04-02\n",
       "...           ...    ...        ...\n",
       "109927 2021-03-30 2 days 2021-04-05\n",
       "109928 2021-03-29 3 days 2021-04-04\n",
       "109929 2021-03-30 2 days 2021-04-05\n",
       "109930 2021-03-29 3 days 2021-04-04\n",
       "109931 2021-03-28 4 days 2021-04-03\n",
       "\n",
       "[21844 rows x 3 columns]"
      ]
     },
     "execution_count": 218,
     "metadata": {},
     "output_type": "execute_result"
    }
   ],
   "source": [
    "youtube_data[['작성일','일자차이','실제작성일']]"
   ]
  },
  {
   "cell_type": "code",
   "execution_count": 220,
   "metadata": {
    "ExecuteTime": {
     "end_time": "2021-04-29T07:33:24.853388Z",
     "start_time": "2021-04-29T07:33:24.850395Z"
    }
   },
   "outputs": [],
   "source": [
    "# youtube 출처 데이터들의 인덱스 \n",
    "youtube_idx = youtube_data.index"
   ]
  },
  {
   "cell_type": "code",
   "execution_count": 233,
   "metadata": {
    "ExecuteTime": {
     "end_time": "2021-04-29T07:35:44.761499Z",
     "start_time": "2021-04-29T07:35:44.752492Z"
    }
   },
   "outputs": [],
   "source": [
    "# '작성일' 컬럼의 값 교체하기\n",
    "# df.loc[youtube_idx]['작성일'] = youtube_data['실제작성일']"
   ]
  },
  {
   "cell_type": "code",
   "execution_count": 243,
   "metadata": {
    "ExecuteTime": {
     "end_time": "2021-04-29T07:39:32.213290Z",
     "start_time": "2021-04-29T07:39:32.184385Z"
    }
   },
   "outputs": [
    {
     "name": "stderr",
     "output_type": "stream",
     "text": [
      "C:\\Users\\master4\\anaconda3\\lib\\site-packages\\ipykernel_launcher.py:2: SettingWithCopyWarning: \n",
      "A value is trying to be set on a copy of a slice from a DataFrame\n",
      "\n",
      "See the caveats in the documentation: https://pandas.pydata.org/pandas-docs/stable/user_guide/indexing.html#returning-a-view-versus-a-copy\n",
      "  \n"
     ]
    }
   ],
   "source": [
    "# '작성일' 컬럼의 값 교체하기\n",
    "df['작성일'][youtube_idx] = youtube_data['실제작성일']"
   ]
  },
  {
   "cell_type": "code",
   "execution_count": 244,
   "metadata": {
    "ExecuteTime": {
     "end_time": "2021-04-29T07:39:41.326858Z",
     "start_time": "2021-04-29T07:39:41.318879Z"
    },
    "scrolled": true
   },
   "outputs": [
    {
     "data": {
      "text/plain": [
       "67522     2021-04-01 00:00:00\n",
       "67523     2021-04-01 00:00:00\n",
       "67524     2021-04-06 00:00:00\n",
       "67525     2021-04-06 00:00:00\n",
       "67526     2021-04-02 00:00:00\n",
       "                 ...         \n",
       "109927    2021-04-05 00:00:00\n",
       "109928    2021-04-04 00:00:00\n",
       "109929    2021-04-05 00:00:00\n",
       "109930    2021-04-04 00:00:00\n",
       "109931    2021-04-03 00:00:00\n",
       "Name: 작성일, Length: 21844, dtype: object"
      ]
     },
     "execution_count": 244,
     "metadata": {},
     "output_type": "execute_result"
    }
   ],
   "source": [
    "df['작성일'][youtube_idx]"
   ]
  },
  {
   "cell_type": "code",
   "execution_count": 252,
   "metadata": {
    "ExecuteTime": {
     "end_time": "2021-04-29T07:44:00.349193Z",
     "start_time": "2021-04-29T07:43:58.992624Z"
    }
   },
   "outputs": [],
   "source": [
    "# df.to_csv('재보궐선거댓글데이터_최종_유튜브수정_0429.csv', encoding='utf-8-sig', index=False )"
   ]
  },
  {
   "cell_type": "code",
   "execution_count": 253,
   "metadata": {
    "ExecuteTime": {
     "end_time": "2021-04-29T07:44:02.136622Z",
     "start_time": "2021-04-29T07:44:00.925085Z"
    },
    "collapsed": true
   },
   "outputs": [
    {
     "data": {
      "text/html": [
       "<div>\n",
       "<style scoped>\n",
       "    .dataframe tbody tr th:only-of-type {\n",
       "        vertical-align: middle;\n",
       "    }\n",
       "\n",
       "    .dataframe tbody tr th {\n",
       "        vertical-align: top;\n",
       "    }\n",
       "\n",
       "    .dataframe thead th {\n",
       "        text-align: right;\n",
       "    }\n",
       "</style>\n",
       "<table border=\"1\" class=\"dataframe\">\n",
       "  <thead>\n",
       "    <tr style=\"text-align: right;\">\n",
       "      <th></th>\n",
       "      <th>제목</th>\n",
       "      <th>날짜</th>\n",
       "      <th>작성일</th>\n",
       "      <th>댓글</th>\n",
       "      <th>출처</th>\n",
       "      <th>지역(서울:1, 부산:2)</th>\n",
       "      <th>정당(1:더불어민주당,2:국민의힘)</th>\n",
       "      <th>정당평가(부정;0, 긍정:1)</th>\n",
       "      <th>후보(기호 순)</th>\n",
       "      <th>후보평가(부정;0, 긍정:1)</th>\n",
       "      <th>제목댓글</th>\n",
       "    </tr>\n",
       "  </thead>\n",
       "  <tbody>\n",
       "    <tr>\n",
       "      <th>0</th>\n",
       "      <td>[재보궐 D-31] 부산 김영춘 vs 박형준, 서울도 양자 대결?</td>\n",
       "      <td>2021-03-07 05:57:00</td>\n",
       "      <td>2021-03-12 19:13:00</td>\n",
       "      <td>철수야! 뜸 들이지 말고 애국하는 마음으로 물러서라~~~</td>\n",
       "      <td>조선일보</td>\n",
       "      <td>NaN</td>\n",
       "      <td>NaN</td>\n",
       "      <td>NaN</td>\n",
       "      <td>NaN</td>\n",
       "      <td>NaN</td>\n",
       "      <td>[재보궐 D-31] 부산 김영춘 vs 박형준, 서울도 양자 대결? 철수야! 뜸 들이...</td>\n",
       "    </tr>\n",
       "    <tr>\n",
       "      <th>1</th>\n",
       "      <td>[재보궐 D-31] 부산 김영춘 vs 박형준, 서울도 양자 대결?</td>\n",
       "      <td>2021-03-07 05:57:00</td>\n",
       "      <td>2021-03-09 13:49:00</td>\n",
       "      <td>박영선은 정동영이 얻은 36프로선에 머무를것. 4.7.이후 OOO정권은 몰락의 길 ...</td>\n",
       "      <td>조선일보</td>\n",
       "      <td>1.0</td>\n",
       "      <td>NaN</td>\n",
       "      <td>NaN</td>\n",
       "      <td>1.0</td>\n",
       "      <td>0.0</td>\n",
       "      <td>[재보궐 D-31] 부산 김영춘 vs 박형준, 서울도 양자 대결? 박영선은 정동영이...</td>\n",
       "    </tr>\n",
       "    <tr>\n",
       "      <th>2</th>\n",
       "      <td>[재보궐 D-31] 부산 김영춘 vs 박형준, 서울도 양자 대결?</td>\n",
       "      <td>2021-03-07 05:57:00</td>\n",
       "      <td>2021-03-07 14:42:00</td>\n",
       "      <td>빵선이가서울시장되면서울은공산국가수도제2의평양이될것이다</td>\n",
       "      <td>조선일보</td>\n",
       "      <td>1.0</td>\n",
       "      <td>NaN</td>\n",
       "      <td>NaN</td>\n",
       "      <td>1.0</td>\n",
       "      <td>0.0</td>\n",
       "      <td>[재보궐 D-31] 부산 김영춘 vs 박형준, 서울도 양자 대결? 빵선이가서울시장되...</td>\n",
       "    </tr>\n",
       "    <tr>\n",
       "      <th>3</th>\n",
       "      <td>[재보궐 D-31] 부산 김영춘 vs 박형준, 서울도 양자 대결?</td>\n",
       "      <td>2021-03-07 05:57:00</td>\n",
       "      <td>2021-03-07 14:38:00</td>\n",
       "      <td>서울시장후보더듬당박빵선이는절대로서울시장을할수없다이유는가족은미국.영국에 영주권자이므로...</td>\n",
       "      <td>조선일보</td>\n",
       "      <td>1.0</td>\n",
       "      <td>1.0</td>\n",
       "      <td>0.0</td>\n",
       "      <td>1.0</td>\n",
       "      <td>0.0</td>\n",
       "      <td>[재보궐 D-31] 부산 김영춘 vs 박형준, 서울도 양자 대결? 서울시장후보더듬당...</td>\n",
       "    </tr>\n",
       "    <tr>\n",
       "      <th>4</th>\n",
       "      <td>[재보궐 D-31] 부산 김영춘 vs 박형준, 서울도 양자 대결?</td>\n",
       "      <td>2021-03-07 05:57:00</td>\n",
       "      <td>2021-03-07 14:02:00</td>\n",
       "      <td>부산은오거돈선거이고 오거돈치부선거아닌가 오거돈에 성추해으로 생긴선거가 가독도신공항은...</td>\n",
       "      <td>조선일보</td>\n",
       "      <td>2.0</td>\n",
       "      <td>1.0</td>\n",
       "      <td>0.0</td>\n",
       "      <td>NaN</td>\n",
       "      <td>NaN</td>\n",
       "      <td>[재보궐 D-31] 부산 김영춘 vs 박형준, 서울도 양자 대결? 부산은오거돈선거이...</td>\n",
       "    </tr>\n",
       "    <tr>\n",
       "      <th>...</th>\n",
       "      <td>...</td>\n",
       "      <td>...</td>\n",
       "      <td>...</td>\n",
       "      <td>...</td>\n",
       "      <td>...</td>\n",
       "      <td>...</td>\n",
       "      <td>...</td>\n",
       "      <td>...</td>\n",
       "      <td>...</td>\n",
       "      <td>...</td>\n",
       "      <td>...</td>\n",
       "    </tr>\n",
       "    <tr>\n",
       "      <th>144134</th>\n",
       "      <td>[논설위원의 단도직입]“한·일해저터널 경제성 없지만…동북아 경제권 차원서 장기 검토해야”</td>\n",
       "      <td>2021-04-06 21:56:00</td>\n",
       "      <td>2021-04-06 22:47:00</td>\n",
       "      <td>국민의힘 찍지 말라고 이 뉴스가 나온거임\\n내냔에 국민의힘 찍을라 했드만 망했다 친...</td>\n",
       "      <td>경향신문</td>\n",
       "      <td>NaN</td>\n",
       "      <td>NaN</td>\n",
       "      <td>NaN</td>\n",
       "      <td>NaN</td>\n",
       "      <td>NaN</td>\n",
       "      <td>[논설위원의 단도직입]“한·일해저터널 경제성 없지만…동북아 경제권 차원서 장기 검토...</td>\n",
       "    </tr>\n",
       "    <tr>\n",
       "      <th>144135</th>\n",
       "      <td>[논설위원의 단도직입]“한·일해저터널 경제성 없지만…동북아 경제권 차원서 장기 검토해야”</td>\n",
       "      <td>2021-04-06 21:56:00</td>\n",
       "      <td>2021-04-06 22:41:00</td>\n",
       "      <td>굳이 일본과 해저터널 해야되는 이유가 없은이유\\n-일본은고속도로비가 비싸다\\n차라니...</td>\n",
       "      <td>경향신문</td>\n",
       "      <td>NaN</td>\n",
       "      <td>NaN</td>\n",
       "      <td>NaN</td>\n",
       "      <td>NaN</td>\n",
       "      <td>NaN</td>\n",
       "      <td>[논설위원의 단도직입]“한·일해저터널 경제성 없지만…동북아 경제권 차원서 장기 검토...</td>\n",
       "    </tr>\n",
       "    <tr>\n",
       "      <th>144136</th>\n",
       "      <td>[논설위원의 단도직입]“한·일해저터널 경제성 없지만…동북아 경제권 차원서 장기 검토해야”</td>\n",
       "      <td>2021-04-06 21:56:00</td>\n",
       "      <td>2021-04-06 22:38:00</td>\n",
       "      <td>도랏구나. 열도는 걍 갈라파고스로 남겨 둬라. 재난 난민 넘어 오면 귀찮다.</td>\n",
       "      <td>경향신문</td>\n",
       "      <td>NaN</td>\n",
       "      <td>NaN</td>\n",
       "      <td>NaN</td>\n",
       "      <td>NaN</td>\n",
       "      <td>NaN</td>\n",
       "      <td>[논설위원의 단도직입]“한·일해저터널 경제성 없지만…동북아 경제권 차원서 장기 검토...</td>\n",
       "    </tr>\n",
       "    <tr>\n",
       "      <th>144137</th>\n",
       "      <td>[논설위원의 단도직입]“한·일해저터널 경제성 없지만…동북아 경제권 차원서 장기 검토해야”</td>\n",
       "      <td>2021-04-06 21:56:00</td>\n",
       "      <td>2021-04-06 22:32:00</td>\n",
       "      <td>이걸 왜 하지? 우리한테 아무런 의미가 없는데</td>\n",
       "      <td>경향신문</td>\n",
       "      <td>NaN</td>\n",
       "      <td>NaN</td>\n",
       "      <td>NaN</td>\n",
       "      <td>NaN</td>\n",
       "      <td>NaN</td>\n",
       "      <td>[논설위원의 단도직입]“한·일해저터널 경제성 없지만…동북아 경제권 차원서 장기 검토...</td>\n",
       "    </tr>\n",
       "    <tr>\n",
       "      <th>144138</th>\n",
       "      <td>[논설위원의 단도직입]“한·일해저터널 경제성 없지만…동북아 경제권 차원서 장기 검토해야”</td>\n",
       "      <td>2021-04-06 21:56:00</td>\n",
       "      <td>2021-04-06 22:26:00</td>\n",
       "      <td>우리에겐 아무런 도움이 되지 않는 것을 일본에게는 엄청난 기회가 되는 것을 왜 굳이...</td>\n",
       "      <td>경향신문</td>\n",
       "      <td>NaN</td>\n",
       "      <td>NaN</td>\n",
       "      <td>NaN</td>\n",
       "      <td>NaN</td>\n",
       "      <td>NaN</td>\n",
       "      <td>[논설위원의 단도직입]“한·일해저터널 경제성 없지만…동북아 경제권 차원서 장기 검토...</td>\n",
       "    </tr>\n",
       "  </tbody>\n",
       "</table>\n",
       "<p>144139 rows × 11 columns</p>\n",
       "</div>"
      ],
      "text/plain": [
       "                                                       제목  \\\n",
       "0                    [재보궐 D-31] 부산 김영춘 vs 박형준, 서울도 양자 대결?   \n",
       "1                    [재보궐 D-31] 부산 김영춘 vs 박형준, 서울도 양자 대결?   \n",
       "2                    [재보궐 D-31] 부산 김영춘 vs 박형준, 서울도 양자 대결?   \n",
       "3                    [재보궐 D-31] 부산 김영춘 vs 박형준, 서울도 양자 대결?   \n",
       "4                    [재보궐 D-31] 부산 김영춘 vs 박형준, 서울도 양자 대결?   \n",
       "...                                                   ...   \n",
       "144134  [논설위원의 단도직입]“한·일해저터널 경제성 없지만…동북아 경제권 차원서 장기 검토해야”   \n",
       "144135  [논설위원의 단도직입]“한·일해저터널 경제성 없지만…동북아 경제권 차원서 장기 검토해야”   \n",
       "144136  [논설위원의 단도직입]“한·일해저터널 경제성 없지만…동북아 경제권 차원서 장기 검토해야”   \n",
       "144137  [논설위원의 단도직입]“한·일해저터널 경제성 없지만…동북아 경제권 차원서 장기 검토해야”   \n",
       "144138  [논설위원의 단도직입]“한·일해저터널 경제성 없지만…동북아 경제권 차원서 장기 검토해야”   \n",
       "\n",
       "                         날짜                  작성일  \\\n",
       "0       2021-03-07 05:57:00  2021-03-12 19:13:00   \n",
       "1       2021-03-07 05:57:00  2021-03-09 13:49:00   \n",
       "2       2021-03-07 05:57:00  2021-03-07 14:42:00   \n",
       "3       2021-03-07 05:57:00  2021-03-07 14:38:00   \n",
       "4       2021-03-07 05:57:00  2021-03-07 14:02:00   \n",
       "...                     ...                  ...   \n",
       "144134  2021-04-06 21:56:00  2021-04-06 22:47:00   \n",
       "144135  2021-04-06 21:56:00  2021-04-06 22:41:00   \n",
       "144136  2021-04-06 21:56:00  2021-04-06 22:38:00   \n",
       "144137  2021-04-06 21:56:00  2021-04-06 22:32:00   \n",
       "144138  2021-04-06 21:56:00  2021-04-06 22:26:00   \n",
       "\n",
       "                                                       댓글    출처  \\\n",
       "0                         철수야! 뜸 들이지 말고 애국하는 마음으로 물러서라~~~  조선일보   \n",
       "1       박영선은 정동영이 얻은 36프로선에 머무를것. 4.7.이후 OOO정권은 몰락의 길 ...  조선일보   \n",
       "2                           빵선이가서울시장되면서울은공산국가수도제2의평양이될것이다  조선일보   \n",
       "3       서울시장후보더듬당박빵선이는절대로서울시장을할수없다이유는가족은미국.영국에 영주권자이므로...  조선일보   \n",
       "4       부산은오거돈선거이고 오거돈치부선거아닌가 오거돈에 성추해으로 생긴선거가 가독도신공항은...  조선일보   \n",
       "...                                                   ...   ...   \n",
       "144134  국민의힘 찍지 말라고 이 뉴스가 나온거임\\n내냔에 국민의힘 찍을라 했드만 망했다 친...  경향신문   \n",
       "144135  굳이 일본과 해저터널 해야되는 이유가 없은이유\\n-일본은고속도로비가 비싸다\\n차라니...  경향신문   \n",
       "144136         도랏구나. 열도는 걍 갈라파고스로 남겨 둬라. 재난 난민 넘어 오면 귀찮다.  경향신문   \n",
       "144137                          이걸 왜 하지? 우리한테 아무런 의미가 없는데  경향신문   \n",
       "144138  우리에겐 아무런 도움이 되지 않는 것을 일본에게는 엄청난 기회가 되는 것을 왜 굳이...  경향신문   \n",
       "\n",
       "        지역(서울:1, 부산:2)  정당(1:더불어민주당,2:국민의힘)  정당평가(부정;0, 긍정:1)  후보(기호 순)  \\\n",
       "0                  NaN                  NaN               NaN       NaN   \n",
       "1                  1.0                  NaN               NaN       1.0   \n",
       "2                  1.0                  NaN               NaN       1.0   \n",
       "3                  1.0                  1.0               0.0       1.0   \n",
       "4                  2.0                  1.0               0.0       NaN   \n",
       "...                ...                  ...               ...       ...   \n",
       "144134             NaN                  NaN               NaN       NaN   \n",
       "144135             NaN                  NaN               NaN       NaN   \n",
       "144136             NaN                  NaN               NaN       NaN   \n",
       "144137             NaN                  NaN               NaN       NaN   \n",
       "144138             NaN                  NaN               NaN       NaN   \n",
       "\n",
       "        후보평가(부정;0, 긍정:1)                                               제목댓글  \n",
       "0                    NaN  [재보궐 D-31] 부산 김영춘 vs 박형준, 서울도 양자 대결? 철수야! 뜸 들이...  \n",
       "1                    0.0  [재보궐 D-31] 부산 김영춘 vs 박형준, 서울도 양자 대결? 박영선은 정동영이...  \n",
       "2                    0.0  [재보궐 D-31] 부산 김영춘 vs 박형준, 서울도 양자 대결? 빵선이가서울시장되...  \n",
       "3                    0.0  [재보궐 D-31] 부산 김영춘 vs 박형준, 서울도 양자 대결? 서울시장후보더듬당...  \n",
       "4                    NaN  [재보궐 D-31] 부산 김영춘 vs 박형준, 서울도 양자 대결? 부산은오거돈선거이...  \n",
       "...                  ...                                                ...  \n",
       "144134               NaN  [논설위원의 단도직입]“한·일해저터널 경제성 없지만…동북아 경제권 차원서 장기 검토...  \n",
       "144135               NaN  [논설위원의 단도직입]“한·일해저터널 경제성 없지만…동북아 경제권 차원서 장기 검토...  \n",
       "144136               NaN  [논설위원의 단도직입]“한·일해저터널 경제성 없지만…동북아 경제권 차원서 장기 검토...  \n",
       "144137               NaN  [논설위원의 단도직입]“한·일해저터널 경제성 없지만…동북아 경제권 차원서 장기 검토...  \n",
       "144138               NaN  [논설위원의 단도직입]“한·일해저터널 경제성 없지만…동북아 경제권 차원서 장기 검토...  \n",
       "\n",
       "[144139 rows x 11 columns]"
      ]
     },
     "execution_count": 253,
     "metadata": {},
     "output_type": "execute_result"
    }
   ],
   "source": [
    "# pd.read_csv('재보궐선거댓글데이터_최종_유튜브수정_0429.csv')"
   ]
  },
  {
   "cell_type": "markdown",
   "metadata": {},
   "source": [
    "## 3. 데이트 타입으로 바꿔주기"
   ]
  },
  {
   "cell_type": "code",
   "execution_count": 420,
   "metadata": {
    "ExecuteTime": {
     "end_time": "2021-04-29T08:27:07.543663Z",
     "start_time": "2021-04-29T08:27:07.526709Z"
    }
   },
   "outputs": [],
   "source": [
    "df2 = df[['제목','댓글','제목댓글','작성일']]\n",
    "# df2.set_index('작성일', inplace=True)"
   ]
  },
  {
   "cell_type": "code",
   "execution_count": 372,
   "metadata": {
    "ExecuteTime": {
     "end_time": "2021-04-29T08:17:19.812342Z",
     "start_time": "2021-04-29T08:17:19.729564Z"
    },
    "scrolled": false
   },
   "outputs": [
    {
     "data": {
      "text/plain": [
       "DatetimeIndex(['2021-03-12 19:13:00', '2021-03-09 13:49:00',\n",
       "               '2021-03-07 14:42:00', '2021-03-07 14:38:00',\n",
       "               '2021-03-07 14:02:00', '2021-03-07 13:15:00',\n",
       "               '2021-03-07 12:13:00', '2021-03-07 12:05:00',\n",
       "               '2021-03-07 10:33:00', '2021-03-07 10:15:00',\n",
       "               ...\n",
       "               '2021-04-06 23:34:00', '2021-04-06 23:02:00',\n",
       "               '2021-04-06 23:01:00', '2021-04-06 22:59:00',\n",
       "               '2021-04-06 22:54:00', '2021-04-06 22:47:00',\n",
       "               '2021-04-06 22:41:00', '2021-04-06 22:38:00',\n",
       "               '2021-04-06 22:32:00', '2021-04-06 22:26:00'],\n",
       "              dtype='datetime64[ns]', name='작성일', length=144139, freq=None)"
      ]
     },
     "execution_count": 372,
     "metadata": {},
     "output_type": "execute_result"
    }
   ],
   "source": [
    "# 데이트 타입으로 바꿔주기\n",
    "df2.index = pd.to_datetime( df2.index )\n",
    "df2.index"
   ]
  },
  {
   "cell_type": "markdown",
   "metadata": {},
   "source": [
    "## (참고) 시계열 데이터 인덱싱"
   ]
  },
  {
   "cell_type": "code",
   "execution_count": 373,
   "metadata": {
    "ExecuteTime": {
     "end_time": "2021-04-29T08:17:19.990869Z",
     "start_time": "2021-04-29T08:17:19.979898Z"
    }
   },
   "outputs": [
    {
     "data": {
      "text/html": [
       "<div>\n",
       "<style scoped>\n",
       "    .dataframe tbody tr th:only-of-type {\n",
       "        vertical-align: middle;\n",
       "    }\n",
       "\n",
       "    .dataframe tbody tr th {\n",
       "        vertical-align: top;\n",
       "    }\n",
       "\n",
       "    .dataframe thead th {\n",
       "        text-align: right;\n",
       "    }\n",
       "</style>\n",
       "<table border=\"1\" class=\"dataframe\">\n",
       "  <thead>\n",
       "    <tr style=\"text-align: right;\">\n",
       "      <th></th>\n",
       "      <th>제목</th>\n",
       "      <th>댓글</th>\n",
       "      <th>제목댓글</th>\n",
       "    </tr>\n",
       "    <tr>\n",
       "      <th>작성일</th>\n",
       "      <th></th>\n",
       "      <th></th>\n",
       "      <th></th>\n",
       "    </tr>\n",
       "  </thead>\n",
       "  <tbody>\n",
       "    <tr>\n",
       "      <th>2020-12-25 09:18:00</th>\n",
       "      <td>여가부장관 후보자 “내년 보궐선거, 권력형 성범죄가 계기”</td>\n",
       "      <td>본인의 귀책으로 중도물러날경우 보궐선거등 재선거에대한 비용은 소속정당과 본인이 대납...</td>\n",
       "      <td>여가부장관 후보자 “내년 보궐선거, 권력형 성범죄가 계기” 본인의 귀책으로 중도물러...</td>\n",
       "    </tr>\n",
       "    <tr>\n",
       "      <th>2020-12-25 07:04:00</th>\n",
       "      <td>여가부장관 후보자 “내년 보궐선거, 권력형 성범죄가 계기”</td>\n",
       "      <td>당연한 지적이지만 변화도 반성도 없는 귀태정권의 보좌관으로 허수아비일 뿐이다.</td>\n",
       "      <td>여가부장관 후보자 “내년 보궐선거, 권력형 성범죄가 계기” 당연한 지적이지만 변화도...</td>\n",
       "    </tr>\n",
       "    <tr>\n",
       "      <th>2020-12-25 04:54:00</th>\n",
       "      <td>여가부장관 후보자 “내년 보궐선거, 권력형 성범죄가 계기”</td>\n",
       "      <td>문 재인 정권이 서서히 몰락 하는 것 같다...참 후련하다...</td>\n",
       "      <td>여가부장관 후보자 “내년 보궐선거, 권력형 성범죄가 계기” 문 재인 정권이 서서히 ...</td>\n",
       "    </tr>\n",
       "    <tr>\n",
       "      <th>2020-12-25 00:34:00</th>\n",
       "      <td>여가부장관 후보자 “내년 보궐선거, 권력형 성범죄가 계기”</td>\n",
       "      <td>올만에 제대로 된사람 뽑았네 ㅎㅎ</td>\n",
       "      <td>여가부장관 후보자 “내년 보궐선거, 권력형 성범죄가 계기” 올만에 제대로 된사람 뽑...</td>\n",
       "    </tr>\n",
       "    <tr>\n",
       "      <th>2020-12-24 22:55:00</th>\n",
       "      <td>여가부장관 후보자 “내년 보궐선거, 권력형 성범죄가 계기”</td>\n",
       "      <td>이사람 여당 스스로 지명 철회하는 또하나의 사상 초유의 사태가 벌어지겠네~</td>\n",
       "      <td>여가부장관 후보자 “내년 보궐선거, 권력형 성범죄가 계기” 이사람 여당 스스로 지명...</td>\n",
       "    </tr>\n",
       "    <tr>\n",
       "      <th>...</th>\n",
       "      <td>...</td>\n",
       "      <td>...</td>\n",
       "      <td>...</td>\n",
       "    </tr>\n",
       "    <tr>\n",
       "      <th>2020-12-07 11:44:00</th>\n",
       "      <td>김종인, 이명박·박근혜 사과 예고에 당내 반발 “누가 문재인 대통령 탄생시켰나”</td>\n",
       "      <td>@최후보루 일본은 사과할 필요가 없다. 이미 연합국에게 항복선언으로 심판 받았고.....</td>\n",
       "      <td>김종인, 이명박·박근혜 사과 예고에 당내 반발 “누가 문재인 대통령 탄생시켰나” @...</td>\n",
       "    </tr>\n",
       "    <tr>\n",
       "      <th>2020-12-07 10:56:00</th>\n",
       "      <td>김종인, 이명박·박근혜 사과 예고에 당내 반발 “누가 문재인 대통령 탄생시켰나”</td>\n",
       "      <td>사과는 스스로의 반성이 전재되어야 그 전정성을 인정받을수 있고 상대의 용서가 따를것...</td>\n",
       "      <td>김종인, 이명박·박근혜 사과 예고에 당내 반발 “누가 문재인 대통령 탄생시켰나” 사...</td>\n",
       "    </tr>\n",
       "    <tr>\n",
       "      <th>2020-12-07 11:49:00</th>\n",
       "      <td>김종인, 이명박·박근혜 사과 예고에 당내 반발 “누가 문재인 대통령 탄생시켰나”</td>\n",
       "      <td>@솔나무 위선도 선이야. 전략적 사과도 사과야. 일본이 진정한 사과를 할 것 같은가...</td>\n",
       "      <td>김종인, 이명박·박근혜 사과 예고에 당내 반발 “누가 문재인 대통령 탄생시켰나” @...</td>\n",
       "    </tr>\n",
       "    <tr>\n",
       "      <th>2020-12-07 10:53:00</th>\n",
       "      <td>김종인, 이명박·박근혜 사과 예고에 당내 반발 “누가 문재인 대통령 탄생시켰나”</td>\n",
       "      <td>국민이 니네 토왜쿠테타독재잔여세력 즉 적폐의 씨를 말리라고 뽑아준거여...\\n니네 ...</td>\n",
       "      <td>김종인, 이명박·박근혜 사과 예고에 당내 반발 “누가 문재인 대통령 탄생시켰나” 국...</td>\n",
       "    </tr>\n",
       "    <tr>\n",
       "      <th>2020-12-07 10:51:00</th>\n",
       "      <td>김종인, 이명박·박근혜 사과 예고에 당내 반발 “누가 문재인 대통령 탄생시켰나”</td>\n",
       "      <td>국민의힘의 한계지 뭐. 옛날이야 지역색이 지금보다 더 뚜렷해서. 계속 집권당을 유지...</td>\n",
       "      <td>김종인, 이명박·박근혜 사과 예고에 당내 반발 “누가 문재인 대통령 탄생시켰나” 국...</td>\n",
       "    </tr>\n",
       "  </tbody>\n",
       "</table>\n",
       "<p>12111 rows × 3 columns</p>\n",
       "</div>"
      ],
      "text/plain": [
       "                                                               제목  \\\n",
       "작성일                                                                 \n",
       "2020-12-25 09:18:00              여가부장관 후보자 “내년 보궐선거, 권력형 성범죄가 계기”   \n",
       "2020-12-25 07:04:00              여가부장관 후보자 “내년 보궐선거, 권력형 성범죄가 계기”   \n",
       "2020-12-25 04:54:00              여가부장관 후보자 “내년 보궐선거, 권력형 성범죄가 계기”   \n",
       "2020-12-25 00:34:00              여가부장관 후보자 “내년 보궐선거, 권력형 성범죄가 계기”   \n",
       "2020-12-24 22:55:00              여가부장관 후보자 “내년 보궐선거, 권력형 성범죄가 계기”   \n",
       "...                                                           ...   \n",
       "2020-12-07 11:44:00  김종인, 이명박·박근혜 사과 예고에 당내 반발 “누가 문재인 대통령 탄생시켰나”   \n",
       "2020-12-07 10:56:00  김종인, 이명박·박근혜 사과 예고에 당내 반발 “누가 문재인 대통령 탄생시켰나”   \n",
       "2020-12-07 11:49:00  김종인, 이명박·박근혜 사과 예고에 당내 반발 “누가 문재인 대통령 탄생시켰나”   \n",
       "2020-12-07 10:53:00  김종인, 이명박·박근혜 사과 예고에 당내 반발 “누가 문재인 대통령 탄생시켰나”   \n",
       "2020-12-07 10:51:00  김종인, 이명박·박근혜 사과 예고에 당내 반발 “누가 문재인 대통령 탄생시켰나”   \n",
       "\n",
       "                                                                    댓글  \\\n",
       "작성일                                                                      \n",
       "2020-12-25 09:18:00  본인의 귀책으로 중도물러날경우 보궐선거등 재선거에대한 비용은 소속정당과 본인이 대납...   \n",
       "2020-12-25 07:04:00        당연한 지적이지만 변화도 반성도 없는 귀태정권의 보좌관으로 허수아비일 뿐이다.   \n",
       "2020-12-25 04:54:00                문 재인 정권이 서서히 몰락 하는 것 같다...참 후련하다...   \n",
       "2020-12-25 00:34:00                                 올만에 제대로 된사람 뽑았네 ㅎㅎ   \n",
       "2020-12-24 22:55:00          이사람 여당 스스로 지명 철회하는 또하나의 사상 초유의 사태가 벌어지겠네~   \n",
       "...                                                                ...   \n",
       "2020-12-07 11:44:00  @최후보루 일본은 사과할 필요가 없다. 이미 연합국에게 항복선언으로 심판 받았고.....   \n",
       "2020-12-07 10:56:00  사과는 스스로의 반성이 전재되어야 그 전정성을 인정받을수 있고 상대의 용서가 따를것...   \n",
       "2020-12-07 11:49:00  @솔나무 위선도 선이야. 전략적 사과도 사과야. 일본이 진정한 사과를 할 것 같은가...   \n",
       "2020-12-07 10:53:00  국민이 니네 토왜쿠테타독재잔여세력 즉 적폐의 씨를 말리라고 뽑아준거여...\\n니네 ...   \n",
       "2020-12-07 10:51:00  국민의힘의 한계지 뭐. 옛날이야 지역색이 지금보다 더 뚜렷해서. 계속 집권당을 유지...   \n",
       "\n",
       "                                                                  제목댓글  \n",
       "작성일                                                                     \n",
       "2020-12-25 09:18:00  여가부장관 후보자 “내년 보궐선거, 권력형 성범죄가 계기” 본인의 귀책으로 중도물러...  \n",
       "2020-12-25 07:04:00  여가부장관 후보자 “내년 보궐선거, 권력형 성범죄가 계기” 당연한 지적이지만 변화도...  \n",
       "2020-12-25 04:54:00  여가부장관 후보자 “내년 보궐선거, 권력형 성범죄가 계기” 문 재인 정권이 서서히 ...  \n",
       "2020-12-25 00:34:00  여가부장관 후보자 “내년 보궐선거, 권력형 성범죄가 계기” 올만에 제대로 된사람 뽑...  \n",
       "2020-12-24 22:55:00  여가부장관 후보자 “내년 보궐선거, 권력형 성범죄가 계기” 이사람 여당 스스로 지명...  \n",
       "...                                                                ...  \n",
       "2020-12-07 11:44:00  김종인, 이명박·박근혜 사과 예고에 당내 반발 “누가 문재인 대통령 탄생시켰나” @...  \n",
       "2020-12-07 10:56:00  김종인, 이명박·박근혜 사과 예고에 당내 반발 “누가 문재인 대통령 탄생시켰나” 사...  \n",
       "2020-12-07 11:49:00  김종인, 이명박·박근혜 사과 예고에 당내 반발 “누가 문재인 대통령 탄생시켰나” @...  \n",
       "2020-12-07 10:53:00  김종인, 이명박·박근혜 사과 예고에 당내 반발 “누가 문재인 대통령 탄생시켰나” 국...  \n",
       "2020-12-07 10:51:00  김종인, 이명박·박근혜 사과 예고에 당내 반발 “누가 문재인 대통령 탄생시켰나” 국...  \n",
       "\n",
       "[12111 rows x 3 columns]"
      ]
     },
     "execution_count": 373,
     "metadata": {},
     "output_type": "execute_result"
    }
   ],
   "source": [
    "df2.loc['2020']"
   ]
  },
  {
   "cell_type": "markdown",
   "metadata": {},
   "source": [
    "## 4. 기간 분리"
   ]
  },
  {
   "cell_type": "code",
   "execution_count": 374,
   "metadata": {
    "ExecuteTime": {
     "end_time": "2021-04-29T08:17:20.257177Z",
     "start_time": "2021-04-29T08:17:20.254185Z"
    }
   },
   "outputs": [],
   "source": [
    "text ='''3월 2일 LH 사건\n",
    "        3월 15일 더민주, 박형준 엘시티 의혹 제기\n",
    "        3월 22일 안철수 도쿄아줌마 발언\n",
    "        3월 23일 안철수, 오세훈 단일화gf 성사\n",
    "        3월 24일 박형준 기장 건물 재산 신고 누락\n",
    "        3월 25일 전 후보 공약 공개\n",
    "        3월 25일 박영선 편의점 무인화 발언\n",
    "        3월 25일 김영춘 후보의 남영희 대변인 박형준 후보를 겨냥해 '조강지처' 발언\n",
    "        3월 26일 박영선 20대 경험치 발언대 경험치 발언\n",
    "        3월 26일 가덕도 특별법 본회의 통과도 특별법 본회의 통과\n",
    "        3월 29일~4월3일 오세훈 내곡동 생태탕 의혹\n",
    "        3월 30일 후보자 토론\n",
    "        4월 2일 박영선 캠프 선거법 위반(투표용지 봤다 발언)\n",
    "        4월 3일 박영선 여성부 시장 도입 발언\n",
    "        4월 8일 보궐선거 결과'''"
   ]
  },
  {
   "cell_type": "code",
   "execution_count": 375,
   "metadata": {
    "ExecuteTime": {
     "end_time": "2021-04-29T08:17:20.488924Z",
     "start_time": "2021-04-29T08:17:20.484934Z"
    }
   },
   "outputs": [],
   "source": [
    "# 텍스트 데이터 분리한 후 데이트타입으로 변형\n",
    "event_date = [] \n",
    "for i in text.split('\\n'):\n",
    "    event_date.append('2021년' + ' ' + i.strip()[:6].strip() )\n",
    "    \n",
    "event_date = pd.to_datetime( event_date, format='%Y년 %m월 %d일' )"
   ]
  },
  {
   "cell_type": "code",
   "execution_count": 397,
   "metadata": {
    "ExecuteTime": {
     "end_time": "2021-04-29T08:21:24.369871Z",
     "start_time": "2021-04-29T08:21:24.360928Z"
    }
   },
   "outputs": [],
   "source": [
    "# '작성일'의 datetime 데이터를 시간 제거\n",
    "# df2.reset_index(inplace=True)\n",
    "df3 = df2.set_index('작성일')"
   ]
  },
  {
   "cell_type": "markdown",
   "metadata": {},
   "source": [
    "## 6. 사건이 있던 날의 데이터를 다 가져오기"
   ]
  },
  {
   "cell_type": "code",
   "execution_count": 419,
   "metadata": {
    "ExecuteTime": {
     "end_time": "2021-04-29T08:26:27.659359Z",
     "start_time": "2021-04-29T08:26:27.632428Z"
    }
   },
   "outputs": [],
   "source": [
    "events_lst = []\n",
    "for i in event_date:\n",
    "    # print(str(i).split(' ')[0])\n",
    "    events = str(i).split(' ')[0]\n",
    "    events_lst.append(df3.loc[events].index)"
   ]
  },
  {
   "cell_type": "code",
   "execution_count": null,
   "metadata": {},
   "outputs": [],
   "source": []
  }
 ],
 "metadata": {
  "kernelspec": {
   "display_name": "Python 3",
   "language": "python",
   "name": "python3"
  },
  "language_info": {
   "codemirror_mode": {
    "name": "ipython",
    "version": 3
   },
   "file_extension": ".py",
   "mimetype": "text/x-python",
   "name": "python",
   "nbconvert_exporter": "python",
   "pygments_lexer": "ipython3",
   "version": "3.7.6"
  },
  "toc": {
   "base_numbering": 1,
   "nav_menu": {},
   "number_sections": false,
   "sideBar": true,
   "skip_h1_title": false,
   "title_cell": "Table of Contents",
   "title_sidebar": "Contents",
   "toc_cell": false,
   "toc_position": {
    "height": "calc(100% - 180px)",
    "left": "10px",
    "top": "150px",
    "width": "165px"
   },
   "toc_section_display": true,
   "toc_window_display": true
  },
  "varInspector": {
   "cols": {
    "lenName": 16,
    "lenType": 16,
    "lenVar": 40
   },
   "kernels_config": {
    "python": {
     "delete_cmd_postfix": "",
     "delete_cmd_prefix": "del ",
     "library": "var_list.py",
     "varRefreshCmd": "print(var_dic_list())"
    },
    "r": {
     "delete_cmd_postfix": ") ",
     "delete_cmd_prefix": "rm(",
     "library": "var_list.r",
     "varRefreshCmd": "cat(var_dic_list()) "
    }
   },
   "types_to_exclude": [
    "module",
    "function",
    "builtin_function_or_method",
    "instance",
    "_Feature"
   ],
   "window_display": false
  }
 },
 "nbformat": 4,
 "nbformat_minor": 4
}
